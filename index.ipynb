{
  "cells": [
    {
      "cell_type": "markdown",
      "metadata": {
        "id": "EcHd4I4kHBbj"
      },
      "source": [
        "# Tuning and Optimizing Neural Networks - Lab\n",
        "\n",
        "## Introduction\n",
        "\n",
        "Now that you've practiced regularization, initialization, and optimization techniques, its time to synthesize these concepts into a cohesive modeling pipeline.  \n",
        "\n",
        "With this pipeline, you will not only fit an initial model, but also attempt to improve it. Your final model selection will pertain to the test metrics across these models. This will more naturally simulate a problem you might be faced with in practice, and the various modeling decisions you are apt to encounter along the way.  \n",
        "\n",
        "Recall that our end objective is to achieve a balance between overfitting and underfitting. You've seen the bias variance trade-off, and the role of regularization in order to reduce overfitting on training data and improving generalization to new cases. Common frameworks for such a procedure include train/validate/test methodology when data is plentiful, and K-folds cross-validation for smaller, more limited datasets. In this lab, you'll perform the latter, as the dataset in question is fairly limited.\n",
        "\n",
        "## Objectives\n",
        "\n",
        "You will be able to:\n",
        "\n",
        "* Apply normalization as a preprocessing technique\n",
        "* Implement a K-folds cross validation modeling pipeline for deep learning models\n",
        "* Apply regularization techniques to improve your model's performance"
      ]
    },
    {
      "cell_type": "markdown",
      "metadata": {
        "id": "UpBbRrVtHBbm"
      },
      "source": [
        "## Load the data\n",
        "\n",
        "First, run the following cell to import all the neccessary libraries and classes you will need in this lab."
      ]
    },
    {
      "cell_type": "code",
      "source": [
        "!pip install scikeras"
      ],
      "metadata": {
        "colab": {
          "base_uri": "https://localhost:8080/"
        },
        "id": "7_rzRu2NMJ0n",
        "outputId": "95aac8fa-c7b4-4b62-a369-e83fbcbef87e"
      },
      "execution_count": 1,
      "outputs": [
        {
          "output_type": "stream",
          "name": "stdout",
          "text": [
            "Collecting scikeras\n",
            "  Downloading scikeras-0.13.0-py3-none-any.whl (26 kB)\n",
            "Collecting keras>=3.2.0 (from scikeras)\n",
            "  Downloading keras-3.2.1-py3-none-any.whl (1.1 MB)\n",
            "\u001b[2K     \u001b[90m━━━━━━━━━━━━━━━━━━━━━━━━━━━━━━━━━━━━━━━━\u001b[0m \u001b[32m1.1/1.1 MB\u001b[0m \u001b[31m14.0 MB/s\u001b[0m eta \u001b[36m0:00:00\u001b[0m\n",
            "\u001b[?25hCollecting scikit-learn>=1.4.2 (from scikeras)\n",
            "  Downloading scikit_learn-1.4.2-cp310-cp310-manylinux_2_17_x86_64.manylinux2014_x86_64.whl (12.1 MB)\n",
            "\u001b[2K     \u001b[90m━━━━━━━━━━━━━━━━━━━━━━━━━━━━━━━━━━━━━━━━\u001b[0m \u001b[32m12.1/12.1 MB\u001b[0m \u001b[31m59.5 MB/s\u001b[0m eta \u001b[36m0:00:00\u001b[0m\n",
            "\u001b[?25hRequirement already satisfied: absl-py in /usr/local/lib/python3.10/dist-packages (from keras>=3.2.0->scikeras) (1.4.0)\n",
            "Requirement already satisfied: numpy in /usr/local/lib/python3.10/dist-packages (from keras>=3.2.0->scikeras) (1.25.2)\n",
            "Requirement already satisfied: rich in /usr/local/lib/python3.10/dist-packages (from keras>=3.2.0->scikeras) (13.7.1)\n",
            "Collecting namex (from keras>=3.2.0->scikeras)\n",
            "  Downloading namex-0.0.8-py3-none-any.whl (5.8 kB)\n",
            "Requirement already satisfied: h5py in /usr/local/lib/python3.10/dist-packages (from keras>=3.2.0->scikeras) (3.9.0)\n",
            "Collecting optree (from keras>=3.2.0->scikeras)\n",
            "  Downloading optree-0.11.0-cp310-cp310-manylinux_2_17_x86_64.manylinux2014_x86_64.whl (311 kB)\n",
            "\u001b[2K     \u001b[90m━━━━━━━━━━━━━━━━━━━━━━━━━━━━━━━━━━━━━━━━\u001b[0m \u001b[32m311.2/311.2 kB\u001b[0m \u001b[31m18.4 MB/s\u001b[0m eta \u001b[36m0:00:00\u001b[0m\n",
            "\u001b[?25hRequirement already satisfied: ml-dtypes in /usr/local/lib/python3.10/dist-packages (from keras>=3.2.0->scikeras) (0.2.0)\n",
            "Requirement already satisfied: scipy>=1.6.0 in /usr/local/lib/python3.10/dist-packages (from scikit-learn>=1.4.2->scikeras) (1.11.4)\n",
            "Requirement already satisfied: joblib>=1.2.0 in /usr/local/lib/python3.10/dist-packages (from scikit-learn>=1.4.2->scikeras) (1.4.0)\n",
            "Requirement already satisfied: threadpoolctl>=2.0.0 in /usr/local/lib/python3.10/dist-packages (from scikit-learn>=1.4.2->scikeras) (3.4.0)\n",
            "Requirement already satisfied: typing-extensions>=4.0.0 in /usr/local/lib/python3.10/dist-packages (from optree->keras>=3.2.0->scikeras) (4.11.0)\n",
            "Requirement already satisfied: markdown-it-py>=2.2.0 in /usr/local/lib/python3.10/dist-packages (from rich->keras>=3.2.0->scikeras) (3.0.0)\n",
            "Requirement already satisfied: pygments<3.0.0,>=2.13.0 in /usr/local/lib/python3.10/dist-packages (from rich->keras>=3.2.0->scikeras) (2.16.1)\n",
            "Requirement already satisfied: mdurl~=0.1 in /usr/local/lib/python3.10/dist-packages (from markdown-it-py>=2.2.0->rich->keras>=3.2.0->scikeras) (0.1.2)\n",
            "Installing collected packages: namex, optree, scikit-learn, keras, scikeras\n",
            "  Attempting uninstall: scikit-learn\n",
            "    Found existing installation: scikit-learn 1.2.2\n",
            "    Uninstalling scikit-learn-1.2.2:\n",
            "      Successfully uninstalled scikit-learn-1.2.2\n",
            "  Attempting uninstall: keras\n",
            "    Found existing installation: keras 2.15.0\n",
            "    Uninstalling keras-2.15.0:\n",
            "      Successfully uninstalled keras-2.15.0\n",
            "\u001b[31mERROR: pip's dependency resolver does not currently take into account all the packages that are installed. This behaviour is the source of the following dependency conflicts.\n",
            "tensorflow 2.15.0 requires keras<2.16,>=2.15.0, but you have keras 3.2.1 which is incompatible.\u001b[0m\u001b[31m\n",
            "\u001b[0mSuccessfully installed keras-3.2.1 namex-0.0.8 optree-0.11.0 scikeras-0.13.0 scikit-learn-1.4.2\n"
          ]
        }
      ]
    },
    {
      "cell_type": "code",
      "execution_count": 2,
      "metadata": {
        "id": "EfgQg9ANHBbn"
      },
      "outputs": [],
      "source": [
        "# Necessary libraries and classes\n",
        "import numpy as np\n",
        "import pandas as pd\n",
        "\n",
        "from sklearn.model_selection import train_test_split\n",
        "from sklearn.preprocessing import StandardScaler, OneHotEncoder\n",
        "from sklearn.impute import SimpleImputer\n",
        "from sklearn.metrics import mean_squared_error\n",
        "from sklearn.model_selection import cross_val_predict\n",
        "\n",
        "from keras import models\n",
        "from keras import layers\n",
        "from keras import regularizers\n",
        "from scikeras.wrappers import KerasRegressor"
      ]
    },
    {
      "cell_type": "markdown",
      "metadata": {
        "id": "nxbGjAB3HBbo"
      },
      "source": [
        "In this lab you'll be working with the *The Lending Club* data.\n",
        "\n",
        "- Import the data available in the file `'loan_final.csv'`\n",
        "- Drop rows with missing values in the `'total_pymnt'` column (this is your target column)\n",
        "- Print the first five rows of the data\n",
        "- Print the dimensions of the data"
      ]
    },
    {
      "cell_type": "code",
      "execution_count": 3,
      "metadata": {
        "colab": {
          "base_uri": "https://localhost:8080/",
          "height": 313
        },
        "id": "aK_2IGivHBbp",
        "outputId": "8ecdd066-5cc1-40f2-f33a-6e88dbebf9c0"
      },
      "outputs": [
        {
          "output_type": "execute_result",
          "data": {
            "text/plain": [
              "   loan_amnt  funded_amnt_inv        term int_rate  installment grade  \\\n",
              "0     5000.0           4975.0   36 months   10.65%       162.87     B   \n",
              "1     2500.0           2500.0   60 months   15.27%        59.83     C   \n",
              "2     2400.0           2400.0   36 months   15.96%        84.33     C   \n",
              "3    10000.0          10000.0   36 months   13.49%       339.31     C   \n",
              "4     3000.0           3000.0   60 months   12.69%        67.79     B   \n",
              "\n",
              "  emp_length home_ownership  annual_inc verification_status  loan_status  \\\n",
              "0  10+ years           RENT     24000.0            Verified   Fully Paid   \n",
              "1   < 1 year           RENT     30000.0     Source Verified  Charged Off   \n",
              "2  10+ years           RENT     12252.0        Not Verified   Fully Paid   \n",
              "3  10+ years           RENT     49200.0     Source Verified   Fully Paid   \n",
              "4     1 year           RENT     80000.0     Source Verified   Fully Paid   \n",
              "\n",
              "          purpose addr_state  total_acc   total_pymnt application_type  \n",
              "0     credit_card         AZ        9.0   5863.155187       Individual  \n",
              "1             car         GA        4.0   1014.530000       Individual  \n",
              "2  small_business         IL       10.0   3005.666844       Individual  \n",
              "3           other         CA       37.0  12231.890000       Individual  \n",
              "4           other         OR       38.0   4066.908161       Individual  "
            ],
            "text/html": [
              "\n",
              "  <div id=\"df-6551baba-9486-4236-8321-094591afe27b\" class=\"colab-df-container\">\n",
              "    <div>\n",
              "<style scoped>\n",
              "    .dataframe tbody tr th:only-of-type {\n",
              "        vertical-align: middle;\n",
              "    }\n",
              "\n",
              "    .dataframe tbody tr th {\n",
              "        vertical-align: top;\n",
              "    }\n",
              "\n",
              "    .dataframe thead th {\n",
              "        text-align: right;\n",
              "    }\n",
              "</style>\n",
              "<table border=\"1\" class=\"dataframe\">\n",
              "  <thead>\n",
              "    <tr style=\"text-align: right;\">\n",
              "      <th></th>\n",
              "      <th>loan_amnt</th>\n",
              "      <th>funded_amnt_inv</th>\n",
              "      <th>term</th>\n",
              "      <th>int_rate</th>\n",
              "      <th>installment</th>\n",
              "      <th>grade</th>\n",
              "      <th>emp_length</th>\n",
              "      <th>home_ownership</th>\n",
              "      <th>annual_inc</th>\n",
              "      <th>verification_status</th>\n",
              "      <th>loan_status</th>\n",
              "      <th>purpose</th>\n",
              "      <th>addr_state</th>\n",
              "      <th>total_acc</th>\n",
              "      <th>total_pymnt</th>\n",
              "      <th>application_type</th>\n",
              "    </tr>\n",
              "  </thead>\n",
              "  <tbody>\n",
              "    <tr>\n",
              "      <th>0</th>\n",
              "      <td>5000.0</td>\n",
              "      <td>4975.0</td>\n",
              "      <td>36 months</td>\n",
              "      <td>10.65%</td>\n",
              "      <td>162.87</td>\n",
              "      <td>B</td>\n",
              "      <td>10+ years</td>\n",
              "      <td>RENT</td>\n",
              "      <td>24000.0</td>\n",
              "      <td>Verified</td>\n",
              "      <td>Fully Paid</td>\n",
              "      <td>credit_card</td>\n",
              "      <td>AZ</td>\n",
              "      <td>9.0</td>\n",
              "      <td>5863.155187</td>\n",
              "      <td>Individual</td>\n",
              "    </tr>\n",
              "    <tr>\n",
              "      <th>1</th>\n",
              "      <td>2500.0</td>\n",
              "      <td>2500.0</td>\n",
              "      <td>60 months</td>\n",
              "      <td>15.27%</td>\n",
              "      <td>59.83</td>\n",
              "      <td>C</td>\n",
              "      <td>&lt; 1 year</td>\n",
              "      <td>RENT</td>\n",
              "      <td>30000.0</td>\n",
              "      <td>Source Verified</td>\n",
              "      <td>Charged Off</td>\n",
              "      <td>car</td>\n",
              "      <td>GA</td>\n",
              "      <td>4.0</td>\n",
              "      <td>1014.530000</td>\n",
              "      <td>Individual</td>\n",
              "    </tr>\n",
              "    <tr>\n",
              "      <th>2</th>\n",
              "      <td>2400.0</td>\n",
              "      <td>2400.0</td>\n",
              "      <td>36 months</td>\n",
              "      <td>15.96%</td>\n",
              "      <td>84.33</td>\n",
              "      <td>C</td>\n",
              "      <td>10+ years</td>\n",
              "      <td>RENT</td>\n",
              "      <td>12252.0</td>\n",
              "      <td>Not Verified</td>\n",
              "      <td>Fully Paid</td>\n",
              "      <td>small_business</td>\n",
              "      <td>IL</td>\n",
              "      <td>10.0</td>\n",
              "      <td>3005.666844</td>\n",
              "      <td>Individual</td>\n",
              "    </tr>\n",
              "    <tr>\n",
              "      <th>3</th>\n",
              "      <td>10000.0</td>\n",
              "      <td>10000.0</td>\n",
              "      <td>36 months</td>\n",
              "      <td>13.49%</td>\n",
              "      <td>339.31</td>\n",
              "      <td>C</td>\n",
              "      <td>10+ years</td>\n",
              "      <td>RENT</td>\n",
              "      <td>49200.0</td>\n",
              "      <td>Source Verified</td>\n",
              "      <td>Fully Paid</td>\n",
              "      <td>other</td>\n",
              "      <td>CA</td>\n",
              "      <td>37.0</td>\n",
              "      <td>12231.890000</td>\n",
              "      <td>Individual</td>\n",
              "    </tr>\n",
              "    <tr>\n",
              "      <th>4</th>\n",
              "      <td>3000.0</td>\n",
              "      <td>3000.0</td>\n",
              "      <td>60 months</td>\n",
              "      <td>12.69%</td>\n",
              "      <td>67.79</td>\n",
              "      <td>B</td>\n",
              "      <td>1 year</td>\n",
              "      <td>RENT</td>\n",
              "      <td>80000.0</td>\n",
              "      <td>Source Verified</td>\n",
              "      <td>Fully Paid</td>\n",
              "      <td>other</td>\n",
              "      <td>OR</td>\n",
              "      <td>38.0</td>\n",
              "      <td>4066.908161</td>\n",
              "      <td>Individual</td>\n",
              "    </tr>\n",
              "  </tbody>\n",
              "</table>\n",
              "</div>\n",
              "    <div class=\"colab-df-buttons\">\n",
              "\n",
              "  <div class=\"colab-df-container\">\n",
              "    <button class=\"colab-df-convert\" onclick=\"convertToInteractive('df-6551baba-9486-4236-8321-094591afe27b')\"\n",
              "            title=\"Convert this dataframe to an interactive table.\"\n",
              "            style=\"display:none;\">\n",
              "\n",
              "  <svg xmlns=\"http://www.w3.org/2000/svg\" height=\"24px\" viewBox=\"0 -960 960 960\">\n",
              "    <path d=\"M120-120v-720h720v720H120Zm60-500h600v-160H180v160Zm220 220h160v-160H400v160Zm0 220h160v-160H400v160ZM180-400h160v-160H180v160Zm440 0h160v-160H620v160ZM180-180h160v-160H180v160Zm440 0h160v-160H620v160Z\"/>\n",
              "  </svg>\n",
              "    </button>\n",
              "\n",
              "  <style>\n",
              "    .colab-df-container {\n",
              "      display:flex;\n",
              "      gap: 12px;\n",
              "    }\n",
              "\n",
              "    .colab-df-convert {\n",
              "      background-color: #E8F0FE;\n",
              "      border: none;\n",
              "      border-radius: 50%;\n",
              "      cursor: pointer;\n",
              "      display: none;\n",
              "      fill: #1967D2;\n",
              "      height: 32px;\n",
              "      padding: 0 0 0 0;\n",
              "      width: 32px;\n",
              "    }\n",
              "\n",
              "    .colab-df-convert:hover {\n",
              "      background-color: #E2EBFA;\n",
              "      box-shadow: 0px 1px 2px rgba(60, 64, 67, 0.3), 0px 1px 3px 1px rgba(60, 64, 67, 0.15);\n",
              "      fill: #174EA6;\n",
              "    }\n",
              "\n",
              "    .colab-df-buttons div {\n",
              "      margin-bottom: 4px;\n",
              "    }\n",
              "\n",
              "    [theme=dark] .colab-df-convert {\n",
              "      background-color: #3B4455;\n",
              "      fill: #D2E3FC;\n",
              "    }\n",
              "\n",
              "    [theme=dark] .colab-df-convert:hover {\n",
              "      background-color: #434B5C;\n",
              "      box-shadow: 0px 1px 3px 1px rgba(0, 0, 0, 0.15);\n",
              "      filter: drop-shadow(0px 1px 2px rgba(0, 0, 0, 0.3));\n",
              "      fill: #FFFFFF;\n",
              "    }\n",
              "  </style>\n",
              "\n",
              "    <script>\n",
              "      const buttonEl =\n",
              "        document.querySelector('#df-6551baba-9486-4236-8321-094591afe27b button.colab-df-convert');\n",
              "      buttonEl.style.display =\n",
              "        google.colab.kernel.accessAllowed ? 'block' : 'none';\n",
              "\n",
              "      async function convertToInteractive(key) {\n",
              "        const element = document.querySelector('#df-6551baba-9486-4236-8321-094591afe27b');\n",
              "        const dataTable =\n",
              "          await google.colab.kernel.invokeFunction('convertToInteractive',\n",
              "                                                    [key], {});\n",
              "        if (!dataTable) return;\n",
              "\n",
              "        const docLinkHtml = 'Like what you see? Visit the ' +\n",
              "          '<a target=\"_blank\" href=https://colab.research.google.com/notebooks/data_table.ipynb>data table notebook</a>'\n",
              "          + ' to learn more about interactive tables.';\n",
              "        element.innerHTML = '';\n",
              "        dataTable['output_type'] = 'display_data';\n",
              "        await google.colab.output.renderOutput(dataTable, element);\n",
              "        const docLink = document.createElement('div');\n",
              "        docLink.innerHTML = docLinkHtml;\n",
              "        element.appendChild(docLink);\n",
              "      }\n",
              "    </script>\n",
              "  </div>\n",
              "\n",
              "\n",
              "<div id=\"df-c170a8e7-a79f-43ee-a564-e628667a8f00\">\n",
              "  <button class=\"colab-df-quickchart\" onclick=\"quickchart('df-c170a8e7-a79f-43ee-a564-e628667a8f00')\"\n",
              "            title=\"Suggest charts\"\n",
              "            style=\"display:none;\">\n",
              "\n",
              "<svg xmlns=\"http://www.w3.org/2000/svg\" height=\"24px\"viewBox=\"0 0 24 24\"\n",
              "     width=\"24px\">\n",
              "    <g>\n",
              "        <path d=\"M19 3H5c-1.1 0-2 .9-2 2v14c0 1.1.9 2 2 2h14c1.1 0 2-.9 2-2V5c0-1.1-.9-2-2-2zM9 17H7v-7h2v7zm4 0h-2V7h2v10zm4 0h-2v-4h2v4z\"/>\n",
              "    </g>\n",
              "</svg>\n",
              "  </button>\n",
              "\n",
              "<style>\n",
              "  .colab-df-quickchart {\n",
              "      --bg-color: #E8F0FE;\n",
              "      --fill-color: #1967D2;\n",
              "      --hover-bg-color: #E2EBFA;\n",
              "      --hover-fill-color: #174EA6;\n",
              "      --disabled-fill-color: #AAA;\n",
              "      --disabled-bg-color: #DDD;\n",
              "  }\n",
              "\n",
              "  [theme=dark] .colab-df-quickchart {\n",
              "      --bg-color: #3B4455;\n",
              "      --fill-color: #D2E3FC;\n",
              "      --hover-bg-color: #434B5C;\n",
              "      --hover-fill-color: #FFFFFF;\n",
              "      --disabled-bg-color: #3B4455;\n",
              "      --disabled-fill-color: #666;\n",
              "  }\n",
              "\n",
              "  .colab-df-quickchart {\n",
              "    background-color: var(--bg-color);\n",
              "    border: none;\n",
              "    border-radius: 50%;\n",
              "    cursor: pointer;\n",
              "    display: none;\n",
              "    fill: var(--fill-color);\n",
              "    height: 32px;\n",
              "    padding: 0;\n",
              "    width: 32px;\n",
              "  }\n",
              "\n",
              "  .colab-df-quickchart:hover {\n",
              "    background-color: var(--hover-bg-color);\n",
              "    box-shadow: 0 1px 2px rgba(60, 64, 67, 0.3), 0 1px 3px 1px rgba(60, 64, 67, 0.15);\n",
              "    fill: var(--button-hover-fill-color);\n",
              "  }\n",
              "\n",
              "  .colab-df-quickchart-complete:disabled,\n",
              "  .colab-df-quickchart-complete:disabled:hover {\n",
              "    background-color: var(--disabled-bg-color);\n",
              "    fill: var(--disabled-fill-color);\n",
              "    box-shadow: none;\n",
              "  }\n",
              "\n",
              "  .colab-df-spinner {\n",
              "    border: 2px solid var(--fill-color);\n",
              "    border-color: transparent;\n",
              "    border-bottom-color: var(--fill-color);\n",
              "    animation:\n",
              "      spin 1s steps(1) infinite;\n",
              "  }\n",
              "\n",
              "  @keyframes spin {\n",
              "    0% {\n",
              "      border-color: transparent;\n",
              "      border-bottom-color: var(--fill-color);\n",
              "      border-left-color: var(--fill-color);\n",
              "    }\n",
              "    20% {\n",
              "      border-color: transparent;\n",
              "      border-left-color: var(--fill-color);\n",
              "      border-top-color: var(--fill-color);\n",
              "    }\n",
              "    30% {\n",
              "      border-color: transparent;\n",
              "      border-left-color: var(--fill-color);\n",
              "      border-top-color: var(--fill-color);\n",
              "      border-right-color: var(--fill-color);\n",
              "    }\n",
              "    40% {\n",
              "      border-color: transparent;\n",
              "      border-right-color: var(--fill-color);\n",
              "      border-top-color: var(--fill-color);\n",
              "    }\n",
              "    60% {\n",
              "      border-color: transparent;\n",
              "      border-right-color: var(--fill-color);\n",
              "    }\n",
              "    80% {\n",
              "      border-color: transparent;\n",
              "      border-right-color: var(--fill-color);\n",
              "      border-bottom-color: var(--fill-color);\n",
              "    }\n",
              "    90% {\n",
              "      border-color: transparent;\n",
              "      border-bottom-color: var(--fill-color);\n",
              "    }\n",
              "  }\n",
              "</style>\n",
              "\n",
              "  <script>\n",
              "    async function quickchart(key) {\n",
              "      const quickchartButtonEl =\n",
              "        document.querySelector('#' + key + ' button');\n",
              "      quickchartButtonEl.disabled = true;  // To prevent multiple clicks.\n",
              "      quickchartButtonEl.classList.add('colab-df-spinner');\n",
              "      try {\n",
              "        const charts = await google.colab.kernel.invokeFunction(\n",
              "            'suggestCharts', [key], {});\n",
              "      } catch (error) {\n",
              "        console.error('Error during call to suggestCharts:', error);\n",
              "      }\n",
              "      quickchartButtonEl.classList.remove('colab-df-spinner');\n",
              "      quickchartButtonEl.classList.add('colab-df-quickchart-complete');\n",
              "    }\n",
              "    (() => {\n",
              "      let quickchartButtonEl =\n",
              "        document.querySelector('#df-c170a8e7-a79f-43ee-a564-e628667a8f00 button');\n",
              "      quickchartButtonEl.style.display =\n",
              "        google.colab.kernel.accessAllowed ? 'block' : 'none';\n",
              "    })();\n",
              "  </script>\n",
              "</div>\n",
              "\n",
              "    </div>\n",
              "  </div>\n"
            ],
            "application/vnd.google.colaboratory.intrinsic+json": {
              "type": "dataframe",
              "variable_name": "data",
              "summary": "{\n  \"name\": \"data\",\n  \"rows\": 42535,\n  \"fields\": [\n    {\n      \"column\": \"loan_amnt\",\n      \"properties\": {\n        \"dtype\": \"number\",\n        \"std\": 7410.938390546603,\n        \"min\": 500.0,\n        \"max\": 35000.0,\n        \"num_unique_values\": 898,\n        \"samples\": [\n          19800.0,\n          22100.0,\n          16250.0\n        ],\n        \"semantic_type\": \"\",\n        \"description\": \"\"\n      }\n    },\n    {\n      \"column\": \"funded_amnt_inv\",\n      \"properties\": {\n        \"dtype\": \"number\",\n        \"std\": 7131.686446534984,\n        \"min\": 0.0,\n        \"max\": 35000.0,\n        \"num_unique_values\": 9240,\n        \"samples\": [\n          4877.897127,\n          1574.998089,\n          11932.07277\n        ],\n        \"semantic_type\": \"\",\n        \"description\": \"\"\n      }\n    },\n    {\n      \"column\": \"term\",\n      \"properties\": {\n        \"dtype\": \"category\",\n        \"num_unique_values\": 2,\n        \"samples\": [\n          \" 60 months\",\n          \" 36 months\"\n        ],\n        \"semantic_type\": \"\",\n        \"description\": \"\"\n      }\n    },\n    {\n      \"column\": \"int_rate\",\n      \"properties\": {\n        \"dtype\": \"category\",\n        \"num_unique_values\": 394,\n        \"samples\": [\n          \"19.39%\",\n          \"17.15%\"\n        ],\n        \"semantic_type\": \"\",\n        \"description\": \"\"\n      }\n    },\n    {\n      \"column\": \"installment\",\n      \"properties\": {\n        \"dtype\": \"number\",\n        \"std\": 208.92721649050853,\n        \"min\": 15.67,\n        \"max\": 1305.19,\n        \"num_unique_values\": 16459,\n        \"samples\": [\n          538.0,\n          472.82\n        ],\n        \"semantic_type\": \"\",\n        \"description\": \"\"\n      }\n    },\n    {\n      \"column\": \"grade\",\n      \"properties\": {\n        \"dtype\": \"category\",\n        \"num_unique_values\": 7,\n        \"samples\": [\n          \"B\",\n          \"C\"\n        ],\n        \"semantic_type\": \"\",\n        \"description\": \"\"\n      }\n    },\n    {\n      \"column\": \"emp_length\",\n      \"properties\": {\n        \"dtype\": \"category\",\n        \"num_unique_values\": 11,\n        \"samples\": [\n          \"9 years\",\n          \"10+ years\"\n        ],\n        \"semantic_type\": \"\",\n        \"description\": \"\"\n      }\n    },\n    {\n      \"column\": \"home_ownership\",\n      \"properties\": {\n        \"dtype\": \"category\",\n        \"num_unique_values\": 5,\n        \"samples\": [\n          \"OWN\",\n          \"NONE\"\n        ],\n        \"semantic_type\": \"\",\n        \"description\": \"\"\n      }\n    },\n    {\n      \"column\": \"annual_inc\",\n      \"properties\": {\n        \"dtype\": \"number\",\n        \"std\": 64096.349718874444,\n        \"min\": 1896.0,\n        \"max\": 6000000.0,\n        \"num_unique_values\": 5597,\n        \"samples\": [\n          39456.0,\n          76310.0\n        ],\n        \"semantic_type\": \"\",\n        \"description\": \"\"\n      }\n    },\n    {\n      \"column\": \"verification_status\",\n      \"properties\": {\n        \"dtype\": \"category\",\n        \"num_unique_values\": 3,\n        \"samples\": [\n          \"Verified\",\n          \"Source Verified\"\n        ],\n        \"semantic_type\": \"\",\n        \"description\": \"\"\n      }\n    },\n    {\n      \"column\": \"loan_status\",\n      \"properties\": {\n        \"dtype\": \"category\",\n        \"num_unique_values\": 4,\n        \"samples\": [\n          \"Charged Off\",\n          \"Does not meet the credit policy. Status:Charged Off\"\n        ],\n        \"semantic_type\": \"\",\n        \"description\": \"\"\n      }\n    },\n    {\n      \"column\": \"purpose\",\n      \"properties\": {\n        \"dtype\": \"category\",\n        \"num_unique_values\": 14,\n        \"samples\": [\n          \"moving\",\n          \"house\"\n        ],\n        \"semantic_type\": \"\",\n        \"description\": \"\"\n      }\n    },\n    {\n      \"column\": \"addr_state\",\n      \"properties\": {\n        \"dtype\": \"category\",\n        \"num_unique_values\": 50,\n        \"samples\": [\n          \"PA\",\n          \"HI\"\n        ],\n        \"semantic_type\": \"\",\n        \"description\": \"\"\n      }\n    },\n    {\n      \"column\": \"total_acc\",\n      \"properties\": {\n        \"dtype\": \"number\",\n        \"std\": 11.592811337332776,\n        \"min\": 1.0,\n        \"max\": 90.0,\n        \"num_unique_values\": 83,\n        \"samples\": [\n          8.0,\n          9.0\n        ],\n        \"semantic_type\": \"\",\n        \"description\": \"\"\n      }\n    },\n    {\n      \"column\": \"total_pymnt\",\n      \"properties\": {\n        \"dtype\": \"number\",\n        \"std\": 9094.582127231024,\n        \"min\": 0.0,\n        \"max\": 58886.47343,\n        \"num_unique_values\": 40520,\n        \"samples\": [\n          41839.74606,\n          10963.58522\n        ],\n        \"semantic_type\": \"\",\n        \"description\": \"\"\n      }\n    },\n    {\n      \"column\": \"application_type\",\n      \"properties\": {\n        \"dtype\": \"category\",\n        \"num_unique_values\": 1,\n        \"samples\": [\n          \"Individual\"\n        ],\n        \"semantic_type\": \"\",\n        \"description\": \"\"\n      }\n    }\n  ]\n}"
            }
          },
          "metadata": {},
          "execution_count": 3
        }
      ],
      "source": [
        "# Import the data\n",
        "url = 'https://raw.githubusercontent.com/joeldmott/dsc-tuning-neural-networks-from-start-to-finish-lab-v2-1/master/loan_final.csv'\n",
        "data = pd.read_csv(url)\n",
        "\n",
        "# Drop rows with no target value\n",
        "data = data[data['total_pymnt'].notna()]\n",
        "\n",
        "# Print head\n",
        "data.head()"
      ]
    },
    {
      "cell_type": "code",
      "execution_count": 4,
      "metadata": {
        "colab": {
          "base_uri": "https://localhost:8080/"
        },
        "id": "jlAGm1eYHBbp",
        "outputId": "d365e538-8545-4350-9160-a911c469e228"
      },
      "outputs": [
        {
          "output_type": "execute_result",
          "data": {
            "text/plain": [
              "(42535, 16)"
            ]
          },
          "metadata": {},
          "execution_count": 4
        }
      ],
      "source": [
        "# Print the dimensions of data\n",
        "data.shape\n",
        "# My notes: this doesn't seem like a 'small' dataset even if it isn't huge, either."
      ]
    },
    {
      "cell_type": "markdown",
      "metadata": {
        "id": "tj7Y_loeHBbp"
      },
      "source": [
        "## Generating a Hold Out Test Set\n",
        "\n",
        "While we will be using K-fold cross validation to select an optimal model, we still want a final hold out test set that is completely independent of any modeling decisions. As such, pull out a sample of 30% of the total available data. For consistency of results, use random seed 42."
      ]
    },
    {
      "cell_type": "code",
      "execution_count": 5,
      "metadata": {
        "id": "V-2sHA8jHBbq"
      },
      "outputs": [],
      "source": [
        "# Features to build the model\n",
        "features = ['loan_amnt', 'funded_amnt_inv', 'installment', 'annual_inc',\n",
        "            'home_ownership', 'verification_status', 'emp_length']\n",
        "\n",
        "X = data[features]\n",
        "y = data[['total_pymnt']]\n",
        "\n",
        "# Split the data into training and test sets\n",
        "X_train, X_test, y_train, y_test = train_test_split(X, y, test_size=0.3, random_state=42)"
      ]
    },
    {
      "cell_type": "markdown",
      "metadata": {
        "id": "E4yBhdAeHBbq"
      },
      "source": [
        "## Preprocessing (Numerical features)\n",
        "\n",
        "- Fill all missing values in numeric features with their respective means\n",
        "- Standardize all the numeric features  \n",
        "- Convert the final results into DataFrames"
      ]
    },
    {
      "cell_type": "code",
      "execution_count": 6,
      "metadata": {
        "id": "23bcK8-7HBbq"
      },
      "outputs": [],
      "source": [
        "# Select continuous features\n",
        "cont_features = ['loan_amnt', 'funded_amnt_inv', 'installment', 'annual_inc']\n",
        "\n",
        "X_train_cont = X_train.loc[:, cont_features]\n",
        "X_test_cont = X_test.loc[:, cont_features]\n",
        "\n",
        "# Instantiate SimpleImputer - fill the missing values with the mean\n",
        "si = SimpleImputer()\n",
        "\n",
        "# Fit and transform the training data\n",
        "X_train_imputed = si.fit_transform(X_train_cont)\n",
        "\n",
        "# Transform test data\n",
        "X_test_imputed = si.transform(X_test_cont)\n",
        "\n",
        "# Instantiate StandardScaler\n",
        "ss_X = StandardScaler()\n",
        "\n",
        "# Fit and transform the training data\n",
        "X_train_scaled = ss_X.fit_transform(X_train_cont)\n",
        "\n",
        "# Transform test data\n",
        "X_test_scaled = ss_X.transform(X_test_cont)"
      ]
    },
    {
      "cell_type": "markdown",
      "metadata": {
        "id": "KICv8I5tHBbq"
      },
      "source": [
        "## Preprocessing (Categorical features)\n",
        "\n",
        "- Fill all missing values in categorical features with the string `'missing'`\n",
        "- One-hot encode all categorical features\n",
        "- Convert the final results into DataFrames\n"
      ]
    },
    {
      "cell_type": "code",
      "execution_count": 29,
      "metadata": {
        "id": "Z7WZ1XlPHBbr",
        "colab": {
          "base_uri": "https://localhost:8080/"
        },
        "outputId": "c6b490fc-4f00-4527-f9b7-fb718b4da5ed"
      },
      "outputs": [
        {
          "output_type": "execute_result",
          "data": {
            "text/plain": [
              "(29774, 20)"
            ]
          },
          "metadata": {},
          "execution_count": 29
        }
      ],
      "source": [
        "# Select only the categorical features\n",
        "cat_features = ['home_ownership', 'verification_status', 'emp_length']\n",
        "X_train_cat = X_train.loc[:, cat_features]\n",
        "X_test_cat = X_test.loc[:, cat_features]\n",
        "\n",
        "# Fill missing values with the string 'missing'\n",
        "X_train_cat = X_train_cat.fillna('missing')\n",
        "X_test_cat = X_test_cat.fillna('missing')\n",
        "\n",
        "# OneHotEncode categorical variables\n",
        "ohe = OneHotEncoder(handle_unknown='ignore')\n",
        "\n",
        "# Transform training and test sets\n",
        "X_train_ohe = ohe.fit_transform(X_train_cat)\n",
        "X_test_ohe = ohe.transform(X_test_cat)\n",
        "\n",
        "# Get all categorical feature names\n",
        "cat_columns = ohe.get_feature_names_out(input_features=X_train_cat.columns)\n",
        "\n",
        "#Why am I getting a \"Shape of passed values is (29774, 1)\" error below?\n",
        "#WHat's the shape of X_train_ohe right now?\n",
        "X_train_ohe.shape"
      ]
    },
    {
      "cell_type": "code",
      "source": [
        "# Select only the categorical features\n",
        "cat_features = ['home_ownership', 'verification_status', 'emp_length']\n",
        "X_train_cat = X_train.loc[:, cat_features]\n",
        "X_test_cat = X_test.loc[:, cat_features]\n",
        "\n",
        "# Fill missing values with the string 'missing'\n",
        "X_train_cat.fillna(value='missing', inplace=True)\n",
        "X_test_cat.fillna(value='missing', inplace=True)\n",
        "\n",
        "# OneHotEncode categorical variables\n",
        "ohe = OneHotEncoder(handle_unknown='ignore')\n",
        "\n",
        "# Transform training and test sets\n",
        "X_train_ohe = ohe.fit_transform(X_train_cat)\n",
        "X_test_ohe = ohe.transform(X_test_cat)\n",
        "\n",
        "# Get all categorical feature names\n",
        "cat_columns = ohe.get_feature_names_out(input_features=X_train_cat.columns)\n",
        "\n",
        "# Fit and transform the training data\n",
        "X_train_categorical = pd.DataFrame(X_train_ohe.todense(), columns=cat_columns)\n",
        "\n",
        "# Transform test data\n",
        "X_test_categorical = pd.DataFrame(X_test_ohe.todense(), columns=cat_columns)"
      ],
      "metadata": {
        "id": "PNDORRFm1jq2"
      },
      "execution_count": 31,
      "outputs": []
    },
    {
      "cell_type": "code",
      "source": [
        "#print(X_train_ohe)"
      ],
      "metadata": {
        "id": "1q_1mxKzzE9A"
      },
      "execution_count": 32,
      "outputs": []
    },
    {
      "cell_type": "code",
      "source": [
        "# Fit and transform the training data\n",
        "#X_train_categorical = pd.DataFrame(X_train_ohe, columns=cat_columns)\n",
        "X_train_categorical = pd.DataFrame(X_train_ohe, columns=cat_columns)\n",
        "\n",
        "# Transform test data\n",
        "X_test_categorical = pd.DataFrame(X_test_ohe, columns=cat_columns)"
      ],
      "metadata": {
        "id": "WW-_1zUIxvLQ",
        "outputId": "6df95438-df5c-471f-9538-18298c44c899",
        "colab": {
          "base_uri": "https://localhost:8080/",
          "height": 356
        }
      },
      "execution_count": 33,
      "outputs": [
        {
          "output_type": "error",
          "ename": "ValueError",
          "evalue": "Shape of passed values is (29774, 1), indices imply (29774, 20)",
          "traceback": [
            "\u001b[0;31m---------------------------------------------------------------------------\u001b[0m",
            "\u001b[0;31mValueError\u001b[0m                                Traceback (most recent call last)",
            "\u001b[0;32m<ipython-input-33-01a7a17bde9e>\u001b[0m in \u001b[0;36m<cell line: 3>\u001b[0;34m()\u001b[0m\n\u001b[1;32m      1\u001b[0m \u001b[0;31m# Fit and transform the training data\u001b[0m\u001b[0;34m\u001b[0m\u001b[0;34m\u001b[0m\u001b[0m\n\u001b[1;32m      2\u001b[0m \u001b[0;31m#X_train_categorical = pd.DataFrame(X_train_ohe, columns=cat_columns)\u001b[0m\u001b[0;34m\u001b[0m\u001b[0;34m\u001b[0m\u001b[0m\n\u001b[0;32m----> 3\u001b[0;31m \u001b[0mX_train_categorical\u001b[0m \u001b[0;34m=\u001b[0m \u001b[0mpd\u001b[0m\u001b[0;34m.\u001b[0m\u001b[0mDataFrame\u001b[0m\u001b[0;34m(\u001b[0m\u001b[0mX_train_ohe\u001b[0m\u001b[0;34m,\u001b[0m \u001b[0mcolumns\u001b[0m\u001b[0;34m=\u001b[0m\u001b[0mcat_columns\u001b[0m\u001b[0;34m)\u001b[0m\u001b[0;34m\u001b[0m\u001b[0;34m\u001b[0m\u001b[0m\n\u001b[0m\u001b[1;32m      4\u001b[0m \u001b[0;34m\u001b[0m\u001b[0m\n\u001b[1;32m      5\u001b[0m \u001b[0;31m# Transform test data\u001b[0m\u001b[0;34m\u001b[0m\u001b[0;34m\u001b[0m\u001b[0m\n",
            "\u001b[0;32m/usr/local/lib/python3.10/dist-packages/pandas/core/frame.py\u001b[0m in \u001b[0;36m__init__\u001b[0;34m(self, data, index, columns, dtype, copy)\u001b[0m\n\u001b[1;32m    796\u001b[0m                     )\n\u001b[1;32m    797\u001b[0m                 \u001b[0;32melse\u001b[0m\u001b[0;34m:\u001b[0m\u001b[0;34m\u001b[0m\u001b[0;34m\u001b[0m\u001b[0m\n\u001b[0;32m--> 798\u001b[0;31m                     mgr = ndarray_to_mgr(\n\u001b[0m\u001b[1;32m    799\u001b[0m                         \u001b[0mdata\u001b[0m\u001b[0;34m,\u001b[0m\u001b[0;34m\u001b[0m\u001b[0;34m\u001b[0m\u001b[0m\n\u001b[1;32m    800\u001b[0m                         \u001b[0mindex\u001b[0m\u001b[0;34m,\u001b[0m\u001b[0;34m\u001b[0m\u001b[0;34m\u001b[0m\u001b[0m\n",
            "\u001b[0;32m/usr/local/lib/python3.10/dist-packages/pandas/core/internals/construction.py\u001b[0m in \u001b[0;36mndarray_to_mgr\u001b[0;34m(values, index, columns, dtype, copy, typ)\u001b[0m\n\u001b[1;32m    335\u001b[0m     )\n\u001b[1;32m    336\u001b[0m \u001b[0;34m\u001b[0m\u001b[0m\n\u001b[0;32m--> 337\u001b[0;31m     \u001b[0m_check_values_indices_shape_match\u001b[0m\u001b[0;34m(\u001b[0m\u001b[0mvalues\u001b[0m\u001b[0;34m,\u001b[0m \u001b[0mindex\u001b[0m\u001b[0;34m,\u001b[0m \u001b[0mcolumns\u001b[0m\u001b[0;34m)\u001b[0m\u001b[0;34m\u001b[0m\u001b[0;34m\u001b[0m\u001b[0m\n\u001b[0m\u001b[1;32m    338\u001b[0m \u001b[0;34m\u001b[0m\u001b[0m\n\u001b[1;32m    339\u001b[0m     \u001b[0;32mif\u001b[0m \u001b[0mtyp\u001b[0m \u001b[0;34m==\u001b[0m \u001b[0;34m\"array\"\u001b[0m\u001b[0;34m:\u001b[0m\u001b[0;34m\u001b[0m\u001b[0;34m\u001b[0m\u001b[0m\n",
            "\u001b[0;32m/usr/local/lib/python3.10/dist-packages/pandas/core/internals/construction.py\u001b[0m in \u001b[0;36m_check_values_indices_shape_match\u001b[0;34m(values, index, columns)\u001b[0m\n\u001b[1;32m    406\u001b[0m         \u001b[0mpassed\u001b[0m \u001b[0;34m=\u001b[0m \u001b[0mvalues\u001b[0m\u001b[0;34m.\u001b[0m\u001b[0mshape\u001b[0m\u001b[0;34m\u001b[0m\u001b[0;34m\u001b[0m\u001b[0m\n\u001b[1;32m    407\u001b[0m         \u001b[0mimplied\u001b[0m \u001b[0;34m=\u001b[0m \u001b[0;34m(\u001b[0m\u001b[0mlen\u001b[0m\u001b[0;34m(\u001b[0m\u001b[0mindex\u001b[0m\u001b[0;34m)\u001b[0m\u001b[0;34m,\u001b[0m \u001b[0mlen\u001b[0m\u001b[0;34m(\u001b[0m\u001b[0mcolumns\u001b[0m\u001b[0;34m)\u001b[0m\u001b[0;34m)\u001b[0m\u001b[0;34m\u001b[0m\u001b[0;34m\u001b[0m\u001b[0m\n\u001b[0;32m--> 408\u001b[0;31m         \u001b[0;32mraise\u001b[0m \u001b[0mValueError\u001b[0m\u001b[0;34m(\u001b[0m\u001b[0;34mf\"Shape of passed values is {passed}, indices imply {implied}\"\u001b[0m\u001b[0;34m)\u001b[0m\u001b[0;34m\u001b[0m\u001b[0;34m\u001b[0m\u001b[0m\n\u001b[0m\u001b[1;32m    409\u001b[0m \u001b[0;34m\u001b[0m\u001b[0m\n\u001b[1;32m    410\u001b[0m \u001b[0;34m\u001b[0m\u001b[0m\n",
            "\u001b[0;31mValueError\u001b[0m: Shape of passed values is (29774, 1), indices imply (29774, 20)"
          ]
        }
      ]
    },
    {
      "cell_type": "code",
      "source": [
        "X_train_categorical.head()"
      ],
      "metadata": {
        "id": "8j7aPMtK0Xfm",
        "outputId": "ca6dbba0-8ab9-4bf8-e673-880e023e4f3a",
        "colab": {
          "base_uri": "https://localhost:8080/",
          "height": 241
        }
      },
      "execution_count": 26,
      "outputs": [
        {
          "output_type": "execute_result",
          "data": {
            "text/plain": [
              "  (home_ownership_MORTGAGE, home_ownership_NONE, home_ownership_OTHER, home_ownership_OWN, home_ownership_RENT, verification_status_Not Verified, verification_status_Source Verified, verification_status_Verified, emp_length_1 year, emp_length_10+ years, emp_length_2 years, emp_length_3 years, emp_length_4 years, emp_length_5 years, emp_length_6 years, emp_length_7 years, emp_length_8 years, emp_length_9 years, emp_length_< 1 year, emp_length_missing)\n",
              "0          (0, 0)\\t1.0\\n  (0, 7)\\t1.0\\n  (0, 9)\\t1.0                                                                                                                                                                                                                                                                                                                                                                                                                  \n",
              "1          (0, 0)\\t1.0\\n  (0, 7)\\t1.0\\n  (0, 9)\\t1.0                                                                                                                                                                                                                                                                                                                                                                                                                  \n",
              "2         (0, 4)\\t1.0\\n  (0, 5)\\t1.0\\n  (0, 14)\\t1.0                                                                                                                                                                                                                                                                                                                                                                                                                  \n",
              "3         (0, 0)\\t1.0\\n  (0, 5)\\t1.0\\n  (0, 16)\\t1.0                                                                                                                                                                                                                                                                                                                                                                                                                  \n",
              "4          (0, 0)\\t1.0\\n  (0, 7)\\t1.0\\n  (0, 9)\\t1.0                                                                                                                                                                                                                                                                                                                                                                                                                  "
            ],
            "text/html": [
              "\n",
              "  <div id=\"df-e8d2f200-6405-4d5e-bd61-c3fbddc481ab\" class=\"colab-df-container\">\n",
              "    <div>\n",
              "<style scoped>\n",
              "    .dataframe tbody tr th:only-of-type {\n",
              "        vertical-align: middle;\n",
              "    }\n",
              "\n",
              "    .dataframe tbody tr th {\n",
              "        vertical-align: top;\n",
              "    }\n",
              "\n",
              "    .dataframe thead th {\n",
              "        text-align: right;\n",
              "    }\n",
              "</style>\n",
              "<table border=\"1\" class=\"dataframe\">\n",
              "  <thead>\n",
              "    <tr style=\"text-align: right;\">\n",
              "      <th></th>\n",
              "      <th>(home_ownership_MORTGAGE, home_ownership_NONE, home_ownership_OTHER, home_ownership_OWN, home_ownership_RENT, verification_status_Not Verified, verification_status_Source Verified, verification_status_Verified, emp_length_1 year, emp_length_10+ years, emp_length_2 years, emp_length_3 years, emp_length_4 years, emp_length_5 years, emp_length_6 years, emp_length_7 years, emp_length_8 years, emp_length_9 years, emp_length_&lt; 1 year, emp_length_missing)</th>\n",
              "    </tr>\n",
              "  </thead>\n",
              "  <tbody>\n",
              "    <tr>\n",
              "      <th>0</th>\n",
              "      <td>(0, 0)\\t1.0\\n  (0, 7)\\t1.0\\n  (0, 9)\\t1.0</td>\n",
              "    </tr>\n",
              "    <tr>\n",
              "      <th>1</th>\n",
              "      <td>(0, 0)\\t1.0\\n  (0, 7)\\t1.0\\n  (0, 9)\\t1.0</td>\n",
              "    </tr>\n",
              "    <tr>\n",
              "      <th>2</th>\n",
              "      <td>(0, 4)\\t1.0\\n  (0, 5)\\t1.0\\n  (0, 14)\\t1.0</td>\n",
              "    </tr>\n",
              "    <tr>\n",
              "      <th>3</th>\n",
              "      <td>(0, 0)\\t1.0\\n  (0, 5)\\t1.0\\n  (0, 16)\\t1.0</td>\n",
              "    </tr>\n",
              "    <tr>\n",
              "      <th>4</th>\n",
              "      <td>(0, 0)\\t1.0\\n  (0, 7)\\t1.0\\n  (0, 9)\\t1.0</td>\n",
              "    </tr>\n",
              "  </tbody>\n",
              "</table>\n",
              "</div>\n",
              "    <div class=\"colab-df-buttons\">\n",
              "\n",
              "  <div class=\"colab-df-container\">\n",
              "    <button class=\"colab-df-convert\" onclick=\"convertToInteractive('df-e8d2f200-6405-4d5e-bd61-c3fbddc481ab')\"\n",
              "            title=\"Convert this dataframe to an interactive table.\"\n",
              "            style=\"display:none;\">\n",
              "\n",
              "  <svg xmlns=\"http://www.w3.org/2000/svg\" height=\"24px\" viewBox=\"0 -960 960 960\">\n",
              "    <path d=\"M120-120v-720h720v720H120Zm60-500h600v-160H180v160Zm220 220h160v-160H400v160Zm0 220h160v-160H400v160ZM180-400h160v-160H180v160Zm440 0h160v-160H620v160ZM180-180h160v-160H180v160Zm440 0h160v-160H620v160Z\"/>\n",
              "  </svg>\n",
              "    </button>\n",
              "\n",
              "  <style>\n",
              "    .colab-df-container {\n",
              "      display:flex;\n",
              "      gap: 12px;\n",
              "    }\n",
              "\n",
              "    .colab-df-convert {\n",
              "      background-color: #E8F0FE;\n",
              "      border: none;\n",
              "      border-radius: 50%;\n",
              "      cursor: pointer;\n",
              "      display: none;\n",
              "      fill: #1967D2;\n",
              "      height: 32px;\n",
              "      padding: 0 0 0 0;\n",
              "      width: 32px;\n",
              "    }\n",
              "\n",
              "    .colab-df-convert:hover {\n",
              "      background-color: #E2EBFA;\n",
              "      box-shadow: 0px 1px 2px rgba(60, 64, 67, 0.3), 0px 1px 3px 1px rgba(60, 64, 67, 0.15);\n",
              "      fill: #174EA6;\n",
              "    }\n",
              "\n",
              "    .colab-df-buttons div {\n",
              "      margin-bottom: 4px;\n",
              "    }\n",
              "\n",
              "    [theme=dark] .colab-df-convert {\n",
              "      background-color: #3B4455;\n",
              "      fill: #D2E3FC;\n",
              "    }\n",
              "\n",
              "    [theme=dark] .colab-df-convert:hover {\n",
              "      background-color: #434B5C;\n",
              "      box-shadow: 0px 1px 3px 1px rgba(0, 0, 0, 0.15);\n",
              "      filter: drop-shadow(0px 1px 2px rgba(0, 0, 0, 0.3));\n",
              "      fill: #FFFFFF;\n",
              "    }\n",
              "  </style>\n",
              "\n",
              "    <script>\n",
              "      const buttonEl =\n",
              "        document.querySelector('#df-e8d2f200-6405-4d5e-bd61-c3fbddc481ab button.colab-df-convert');\n",
              "      buttonEl.style.display =\n",
              "        google.colab.kernel.accessAllowed ? 'block' : 'none';\n",
              "\n",
              "      async function convertToInteractive(key) {\n",
              "        const element = document.querySelector('#df-e8d2f200-6405-4d5e-bd61-c3fbddc481ab');\n",
              "        const dataTable =\n",
              "          await google.colab.kernel.invokeFunction('convertToInteractive',\n",
              "                                                    [key], {});\n",
              "        if (!dataTable) return;\n",
              "\n",
              "        const docLinkHtml = 'Like what you see? Visit the ' +\n",
              "          '<a target=\"_blank\" href=https://colab.research.google.com/notebooks/data_table.ipynb>data table notebook</a>'\n",
              "          + ' to learn more about interactive tables.';\n",
              "        element.innerHTML = '';\n",
              "        dataTable['output_type'] = 'display_data';\n",
              "        await google.colab.output.renderOutput(dataTable, element);\n",
              "        const docLink = document.createElement('div');\n",
              "        docLink.innerHTML = docLinkHtml;\n",
              "        element.appendChild(docLink);\n",
              "      }\n",
              "    </script>\n",
              "  </div>\n",
              "\n",
              "\n",
              "<div id=\"df-fdaa1a75-906e-443e-8134-d47e85399437\">\n",
              "  <button class=\"colab-df-quickchart\" onclick=\"quickchart('df-fdaa1a75-906e-443e-8134-d47e85399437')\"\n",
              "            title=\"Suggest charts\"\n",
              "            style=\"display:none;\">\n",
              "\n",
              "<svg xmlns=\"http://www.w3.org/2000/svg\" height=\"24px\"viewBox=\"0 0 24 24\"\n",
              "     width=\"24px\">\n",
              "    <g>\n",
              "        <path d=\"M19 3H5c-1.1 0-2 .9-2 2v14c0 1.1.9 2 2 2h14c1.1 0 2-.9 2-2V5c0-1.1-.9-2-2-2zM9 17H7v-7h2v7zm4 0h-2V7h2v10zm4 0h-2v-4h2v4z\"/>\n",
              "    </g>\n",
              "</svg>\n",
              "  </button>\n",
              "\n",
              "<style>\n",
              "  .colab-df-quickchart {\n",
              "      --bg-color: #E8F0FE;\n",
              "      --fill-color: #1967D2;\n",
              "      --hover-bg-color: #E2EBFA;\n",
              "      --hover-fill-color: #174EA6;\n",
              "      --disabled-fill-color: #AAA;\n",
              "      --disabled-bg-color: #DDD;\n",
              "  }\n",
              "\n",
              "  [theme=dark] .colab-df-quickchart {\n",
              "      --bg-color: #3B4455;\n",
              "      --fill-color: #D2E3FC;\n",
              "      --hover-bg-color: #434B5C;\n",
              "      --hover-fill-color: #FFFFFF;\n",
              "      --disabled-bg-color: #3B4455;\n",
              "      --disabled-fill-color: #666;\n",
              "  }\n",
              "\n",
              "  .colab-df-quickchart {\n",
              "    background-color: var(--bg-color);\n",
              "    border: none;\n",
              "    border-radius: 50%;\n",
              "    cursor: pointer;\n",
              "    display: none;\n",
              "    fill: var(--fill-color);\n",
              "    height: 32px;\n",
              "    padding: 0;\n",
              "    width: 32px;\n",
              "  }\n",
              "\n",
              "  .colab-df-quickchart:hover {\n",
              "    background-color: var(--hover-bg-color);\n",
              "    box-shadow: 0 1px 2px rgba(60, 64, 67, 0.3), 0 1px 3px 1px rgba(60, 64, 67, 0.15);\n",
              "    fill: var(--button-hover-fill-color);\n",
              "  }\n",
              "\n",
              "  .colab-df-quickchart-complete:disabled,\n",
              "  .colab-df-quickchart-complete:disabled:hover {\n",
              "    background-color: var(--disabled-bg-color);\n",
              "    fill: var(--disabled-fill-color);\n",
              "    box-shadow: none;\n",
              "  }\n",
              "\n",
              "  .colab-df-spinner {\n",
              "    border: 2px solid var(--fill-color);\n",
              "    border-color: transparent;\n",
              "    border-bottom-color: var(--fill-color);\n",
              "    animation:\n",
              "      spin 1s steps(1) infinite;\n",
              "  }\n",
              "\n",
              "  @keyframes spin {\n",
              "    0% {\n",
              "      border-color: transparent;\n",
              "      border-bottom-color: var(--fill-color);\n",
              "      border-left-color: var(--fill-color);\n",
              "    }\n",
              "    20% {\n",
              "      border-color: transparent;\n",
              "      border-left-color: var(--fill-color);\n",
              "      border-top-color: var(--fill-color);\n",
              "    }\n",
              "    30% {\n",
              "      border-color: transparent;\n",
              "      border-left-color: var(--fill-color);\n",
              "      border-top-color: var(--fill-color);\n",
              "      border-right-color: var(--fill-color);\n",
              "    }\n",
              "    40% {\n",
              "      border-color: transparent;\n",
              "      border-right-color: var(--fill-color);\n",
              "      border-top-color: var(--fill-color);\n",
              "    }\n",
              "    60% {\n",
              "      border-color: transparent;\n",
              "      border-right-color: var(--fill-color);\n",
              "    }\n",
              "    80% {\n",
              "      border-color: transparent;\n",
              "      border-right-color: var(--fill-color);\n",
              "      border-bottom-color: var(--fill-color);\n",
              "    }\n",
              "    90% {\n",
              "      border-color: transparent;\n",
              "      border-bottom-color: var(--fill-color);\n",
              "    }\n",
              "  }\n",
              "</style>\n",
              "\n",
              "  <script>\n",
              "    async function quickchart(key) {\n",
              "      const quickchartButtonEl =\n",
              "        document.querySelector('#' + key + ' button');\n",
              "      quickchartButtonEl.disabled = true;  // To prevent multiple clicks.\n",
              "      quickchartButtonEl.classList.add('colab-df-spinner');\n",
              "      try {\n",
              "        const charts = await google.colab.kernel.invokeFunction(\n",
              "            'suggestCharts', [key], {});\n",
              "      } catch (error) {\n",
              "        console.error('Error during call to suggestCharts:', error);\n",
              "      }\n",
              "      quickchartButtonEl.classList.remove('colab-df-spinner');\n",
              "      quickchartButtonEl.classList.add('colab-df-quickchart-complete');\n",
              "    }\n",
              "    (() => {\n",
              "      let quickchartButtonEl =\n",
              "        document.querySelector('#df-fdaa1a75-906e-443e-8134-d47e85399437 button');\n",
              "      quickchartButtonEl.style.display =\n",
              "        google.colab.kernel.accessAllowed ? 'block' : 'none';\n",
              "    })();\n",
              "  </script>\n",
              "</div>\n",
              "\n",
              "    </div>\n",
              "  </div>\n"
            ],
            "application/vnd.google.colaboratory.intrinsic+json": {
              "type": "dataframe",
              "variable_name": "X_train_categorical",
              "summary": "{\n  \"name\": \"X_train_categorical\",\n  \"rows\": 29774,\n  \"fields\": [\n    {\n      \"column\": [\n        \"home_ownership_MORTGAGE\",\n        \"home_ownership_NONE\",\n        \"home_ownership_OTHER\",\n        \"home_ownership_OWN\",\n        \"home_ownership_RENT\",\n        \"verification_status_Not Verified\",\n        \"verification_status_Source Verified\",\n        \"verification_status_Verified\",\n        \"emp_length_1 year\",\n        \"emp_length_10+ years\",\n        \"emp_length_2 years\",\n        \"emp_length_3 years\",\n        \"emp_length_4 years\",\n        \"emp_length_5 years\",\n        \"emp_length_6 years\",\n        \"emp_length_7 years\",\n        \"emp_length_8 years\",\n        \"emp_length_9 years\",\n        \"emp_length_< 1 year\",\n        \"emp_length_missing\"\n      ],\n      \"properties\": {\n        \"dtype\": \"object\",\n        \"semantic_type\": \"\",\n        \"description\": \"\"\n      }\n    }\n  ]\n}"
            }
          },
          "metadata": {},
          "execution_count": 26
        }
      ]
    },
    {
      "cell_type": "markdown",
      "metadata": {
        "id": "YDetJ5szHBbr"
      },
      "source": [
        "Run the below cell to combine the numeric and categorical features."
      ]
    },
    {
      "cell_type": "code",
      "execution_count": null,
      "metadata": {
        "id": "Oe2HOQ1QHBbr"
      },
      "outputs": [],
      "source": [
        "# Combine continuous and categorical feature DataFrames\n",
        "X_train_all = pd.concat([X_train_scaled, X_train_categorical], axis=1)\n",
        "X_test_all = pd.concat([X_test_scaled, X_test_categorical], axis=1)\n",
        "\n",
        "# Number of input features\n",
        "n_features = X_train_all.shape[1]"
      ]
    },
    {
      "cell_type": "markdown",
      "metadata": {
        "id": "2DRc1dI8HBbr"
      },
      "source": [
        "- Standardize the target DataFrames (`y_train` and `y_test`)"
      ]
    },
    {
      "cell_type": "code",
      "execution_count": null,
      "metadata": {
        "id": "-jSx_fYoHBbr"
      },
      "outputs": [],
      "source": [
        "# Instantiate StandardScaler\n",
        "ss_y = None\n",
        "\n",
        "# Fit and transform Y (train)\n",
        "y_train_scaled = None\n",
        "\n",
        "# Transform test Y (test)\n",
        "y_test_scaled = None"
      ]
    },
    {
      "cell_type": "markdown",
      "metadata": {
        "id": "-FvV0fhUHBbs"
      },
      "source": [
        "## Define a K-fold Cross Validation Methodology\n",
        "\n",
        "Now that your have a complete holdout test set, you will perform k-fold cross-validation using the following steps:\n",
        "\n",
        "- Create a function that returns a compiled deep learning model\n",
        "- Use the wrapper function `KerasRegressor()` that defines how these folds are trained\n",
        "- Call the `cross_val_predict()` function to perform k-fold cross-validation\n",
        "\n",
        "In the cell below, we've defined a baseline model that returns a compiled Keras models."
      ]
    },
    {
      "cell_type": "code",
      "execution_count": null,
      "metadata": {
        "id": "lnkvO4zwHBbs"
      },
      "outputs": [],
      "source": [
        "# Define a function that returns a compiled Keras model\n",
        "def create_baseline_model():\n",
        "\n",
        "    # Initialize model\n",
        "    model = models.Sequential()\n",
        "\n",
        "    # First hidden layer\n",
        "    model.add(layers.Dense(10, activation='relu', input_shape=(n_features,)))\n",
        "\n",
        "    # Second hidden layer\n",
        "    model.add(layers.Dense(5, activation='relu'))\n",
        "\n",
        "    # Output layer\n",
        "    model.add(layers.Dense(1, activation='linear'))\n",
        "\n",
        "    # Compile the model\n",
        "    model.compile(optimizer='SGD',\n",
        "                  loss='mse',\n",
        "                  metrics=['mse'])\n",
        "\n",
        "    # Return the compiled model\n",
        "    return model"
      ]
    },
    {
      "cell_type": "markdown",
      "metadata": {
        "id": "rlla3Yf1HBbs"
      },
      "source": [
        "Wrap `create_baseline_model` inside a call to `KerasRegressor()`, and:\n",
        "\n",
        "- Train for 150 epochs\n",
        "- Set the batch size to 256\n",
        "\n",
        "> NOTE: Refer to the [documentation](https://keras.io/scikit-learn-api/) to learn about `KerasRegressor()`.  "
      ]
    },
    {
      "cell_type": "code",
      "execution_count": null,
      "metadata": {
        "id": "T4NTB_CyHBbs"
      },
      "outputs": [],
      "source": [
        "# Wrap the above function for use in cross-validation\n",
        "keras_wrapper_1 = None"
      ]
    },
    {
      "cell_type": "markdown",
      "metadata": {
        "id": "5M-GXkJGHBbs"
      },
      "source": [
        "Use `cross_val_predict()` to generate cross-validated predictions with:\n",
        "- 5-fold cv\n",
        "- scaled input (`X_train_all`) and output (`y_train_scaled`)"
      ]
    },
    {
      "cell_type": "code",
      "execution_count": null,
      "metadata": {
        "id": "DxoB7ciPHBbs"
      },
      "outputs": [],
      "source": [
        "# ⏰ This cell may take several mintes to run\n",
        "# Generate cross-validated predictions\n",
        "np.random.seed(123)\n",
        "cv_baseline_preds = None"
      ]
    },
    {
      "cell_type": "markdown",
      "metadata": {
        "id": "tAlDjJZkHBbt"
      },
      "source": [
        "- Find the RMSE on train data"
      ]
    },
    {
      "cell_type": "code",
      "execution_count": null,
      "metadata": {
        "id": "IeCqo3DAHBbt"
      },
      "outputs": [],
      "source": [
        "# RMSE on train data (scaled)\n"
      ]
    },
    {
      "cell_type": "markdown",
      "metadata": {
        "id": "kAa4ZttHHBbt"
      },
      "source": [
        "- Convert the scaled predictions back to original scale\n",
        "- Calculate RMSE in the original units with `y_train` and `baseline_preds`"
      ]
    },
    {
      "cell_type": "code",
      "execution_count": null,
      "metadata": {
        "id": "sy48kvqOHBbt"
      },
      "outputs": [],
      "source": [
        "# Convert the predictions back to original scale\n",
        "baseline_preds = None\n",
        "\n",
        "# RMSE on train data (original scale)\n"
      ]
    },
    {
      "cell_type": "markdown",
      "metadata": {
        "id": "2jAOMZG-HBbt"
      },
      "source": [
        "## Intentionally Overfitting a Model\n",
        "\n",
        "Now that you've developed a baseline model, its time to intentionally overfit a model. To overfit a model, you can:\n",
        "* Add layers\n",
        "* Make the layers bigger\n",
        "* Increase the number of training epochs\n",
        "\n",
        "Again, be careful here. Think about the limitations of your resources, both in terms of your computers specs and how much time and patience you have to let the process run. Also keep in mind that you will then be regularizing these overfit models, meaning another round of experiments and more time and resources."
      ]
    },
    {
      "cell_type": "code",
      "execution_count": null,
      "metadata": {
        "id": "FM9ajaQnHBbu"
      },
      "outputs": [],
      "source": [
        "# Define a function that returns a compiled Keras model\n",
        "def create_bigger_model():\n",
        "\n",
        "    pass"
      ]
    },
    {
      "cell_type": "code",
      "execution_count": null,
      "metadata": {
        "id": "VTBAQEoVHBbu"
      },
      "outputs": [],
      "source": [
        "# Wrap the above function for use in cross-validation\n",
        "keras_wrapper_2 = None"
      ]
    },
    {
      "cell_type": "code",
      "execution_count": null,
      "metadata": {
        "id": "cf06iZMfHBbu"
      },
      "outputs": [],
      "source": [
        "# ⏰ This cell may take several mintes to run and you may get a comment from tf about optimizing your machine\n",
        "# Generate cross-validated predictions\n",
        "np.random.seed(123)\n",
        "cv_bigger_model_preds = None"
      ]
    },
    {
      "cell_type": "code",
      "execution_count": null,
      "metadata": {
        "id": "VrxOoHqUHBbu"
      },
      "outputs": [],
      "source": [
        "# RMSE on train data (scaled)\n"
      ]
    },
    {
      "cell_type": "markdown",
      "metadata": {
        "id": "ZHB_hS3tHBbu"
      },
      "source": [
        "## Regularizing the Model to Achieve Balance  \n",
        "\n",
        "Now that you have a powerful model (albeit an overfit one), we can now increase the generalization of the model by using some of the regularization techniques we discussed. Some options you have to try include:  \n",
        "* Adding dropout\n",
        "* Adding L1/L2 regularization\n",
        "* Altering the layer architecture (add or remove layers similar to above)  \n",
        "\n",
        "This process will be constrained by time and resources. Be sure to test at least two different methodologies, such as dropout and L2 regularization. If you have the time, feel free to continue experimenting."
      ]
    },
    {
      "cell_type": "code",
      "execution_count": null,
      "metadata": {
        "id": "_0UsGQBJHBbu"
      },
      "outputs": [],
      "source": [
        "# Define a function that returns a compiled Keras model\n",
        "def create_regularized_model():\n",
        "\n",
        "    pass"
      ]
    },
    {
      "cell_type": "code",
      "execution_count": null,
      "metadata": {
        "id": "xwJi8S5fHBbv"
      },
      "outputs": [],
      "source": [
        "# Wrap the above function for use in cross-validation\n",
        "keras_wrapper_3 = None"
      ]
    },
    {
      "cell_type": "code",
      "execution_count": null,
      "metadata": {
        "id": "WDDq5My1HBbv"
      },
      "outputs": [],
      "source": [
        "# ⏰ This cell may take several mintes to run and you may get a comment from tf about optimizing your machine\n",
        "# Generate cross-validated predictions\n",
        "np.random.seed(123)\n",
        "cv_dropout_preds = None"
      ]
    },
    {
      "cell_type": "code",
      "execution_count": null,
      "metadata": {
        "id": "o98EeqvfHBbv"
      },
      "outputs": [],
      "source": [
        "# RMSE on train data (scaled)\n"
      ]
    },
    {
      "cell_type": "markdown",
      "metadata": {
        "id": "-btBrT4NHBbv"
      },
      "source": [
        "## Final Evaluation\n",
        "\n",
        "Now that you have selected a network architecture, tested various regularization procedures and tuned hyperparameters via a validation methodology, it is time to evaluate your final model on the test set. Fit the model using all of the training data using the architecture and hyperparameters that were most effective in your experiments above. Afterwards, measure the overall performance on the hold-out test data which has been left untouched (and hasn't leaked any data into the modeling process)!"
      ]
    },
    {
      "cell_type": "code",
      "execution_count": null,
      "metadata": {
        "id": "hA4HfwX_HBbv"
      },
      "outputs": [],
      "source": [
        "# ⏰ This cell may take several mintes to run and you may get a comment from tf about optimizing your machine"
      ]
    },
    {
      "cell_type": "code",
      "execution_count": null,
      "metadata": {
        "id": "_OM2U-BNHBbv"
      },
      "outputs": [],
      "source": []
    },
    {
      "cell_type": "markdown",
      "metadata": {
        "id": "5bOqEFB2HBb5"
      },
      "source": [
        "## Summary\n",
        "\n",
        "In this lab, you investigated some data from *The Lending Club* in a complete data science pipeline to build neural networks with good performance. You began with reserving a hold-out set for testing which never was touched during the modeling phase. From there, you implemented a k-fold cross validation methodology in order to assess an initial baseline model and various regularization methods."
      ]
    }
  ],
  "metadata": {
    "kernelspec": {
      "display_name": "Python 3",
      "language": "python",
      "name": "python3"
    },
    "language_info": {
      "codemirror_mode": {
        "name": "ipython",
        "version": 3
      },
      "file_extension": ".py",
      "mimetype": "text/x-python",
      "name": "python",
      "nbconvert_exporter": "python",
      "pygments_lexer": "ipython3",
      "version": "3.7.3"
    },
    "colab": {
      "provenance": []
    }
  },
  "nbformat": 4,
  "nbformat_minor": 0
}